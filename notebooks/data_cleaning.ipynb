{
 "cells": [
  {
   "cell_type": "markdown",
   "id": "ec6690c7",
   "metadata": {},
   "source": [
    "### Import DATA"
   ]
  },
  {
   "cell_type": "code",
   "execution_count": 49,
   "id": "9826aa0f",
   "metadata": {},
   "outputs": [],
   "source": [
    "import pandas as pd \n",
    "import plotly.express as px\n",
    "import matplotlib.pyplot as plt \n",
    "import seaborn as sns   \n",
    "import numpy as np "
   ]
  },
  {
   "cell_type": "code",
   "execution_count": 50,
   "id": "6c56b4dd",
   "metadata": {},
   "outputs": [
    {
     "name": "stderr",
     "output_type": "stream",
     "text": [
      "/var/folders/h0/75t8pd8571n2l1zzjcyqp7kh0000gp/T/ipykernel_71670/3164521452.py:1: DtypeWarning:\n",
      "\n",
      "Columns (2) have mixed types. Specify dtype option on import or set low_memory=False.\n",
      "\n"
     ]
    }
   ],
   "source": [
    "df = pd.read_csv(\"/Users/Marcy_Student/Desktop/Marcy_Projects/Mod2_Final_Project/data/Raw/NYC_Dog_Licensing_Dataset_20250713.csv\")"
   ]
  },
  {
   "cell_type": "markdown",
   "id": "804fa024",
   "metadata": {},
   "source": [
    "- Quick overview of the data"
   ]
  },
  {
   "cell_type": "code",
   "execution_count": 51,
   "id": "bc11bde6",
   "metadata": {},
   "outputs": [
    {
     "data": {
      "text/html": [
       "<div>\n",
       "<style scoped>\n",
       "    .dataframe tbody tr th:only-of-type {\n",
       "        vertical-align: middle;\n",
       "    }\n",
       "\n",
       "    .dataframe tbody tr th {\n",
       "        vertical-align: top;\n",
       "    }\n",
       "\n",
       "    .dataframe thead th {\n",
       "        text-align: right;\n",
       "    }\n",
       "</style>\n",
       "<table border=\"1\" class=\"dataframe\">\n",
       "  <thead>\n",
       "    <tr style=\"text-align: right;\">\n",
       "      <th></th>\n",
       "      <th>AnimalName</th>\n",
       "      <th>AnimalGender</th>\n",
       "      <th>AnimalBirthYear</th>\n",
       "      <th>BreedName</th>\n",
       "      <th>ZipCode</th>\n",
       "      <th>LicenseIssuedDate</th>\n",
       "      <th>LicenseExpiredDate</th>\n",
       "      <th>Extract Year</th>\n",
       "    </tr>\n",
       "  </thead>\n",
       "  <tbody>\n",
       "    <tr>\n",
       "      <th>0</th>\n",
       "      <td>PAIGE</td>\n",
       "      <td>F</td>\n",
       "      <td>2014</td>\n",
       "      <td>American Pit Bull Mix / Pit Bull Mix</td>\n",
       "      <td>10035.0</td>\n",
       "      <td>09/12/2014</td>\n",
       "      <td>09/12/2017</td>\n",
       "      <td>2016</td>\n",
       "    </tr>\n",
       "    <tr>\n",
       "      <th>1</th>\n",
       "      <td>YOGI</td>\n",
       "      <td>M</td>\n",
       "      <td>2010</td>\n",
       "      <td>Boxer</td>\n",
       "      <td>10465.0</td>\n",
       "      <td>09/12/2014</td>\n",
       "      <td>10/02/2017</td>\n",
       "      <td>2016</td>\n",
       "    </tr>\n",
       "    <tr>\n",
       "      <th>2</th>\n",
       "      <td>ALI</td>\n",
       "      <td>M</td>\n",
       "      <td>2014</td>\n",
       "      <td>Basenji</td>\n",
       "      <td>10013.0</td>\n",
       "      <td>09/12/2014</td>\n",
       "      <td>09/12/2019</td>\n",
       "      <td>2016</td>\n",
       "    </tr>\n",
       "    <tr>\n",
       "      <th>3</th>\n",
       "      <td>QUEEN</td>\n",
       "      <td>F</td>\n",
       "      <td>2013</td>\n",
       "      <td>Akita Crossbreed</td>\n",
       "      <td>10013.0</td>\n",
       "      <td>09/12/2014</td>\n",
       "      <td>09/12/2017</td>\n",
       "      <td>2016</td>\n",
       "    </tr>\n",
       "    <tr>\n",
       "      <th>4</th>\n",
       "      <td>LOLA</td>\n",
       "      <td>F</td>\n",
       "      <td>2009</td>\n",
       "      <td>Maltese</td>\n",
       "      <td>10028.0</td>\n",
       "      <td>09/12/2014</td>\n",
       "      <td>10/09/2017</td>\n",
       "      <td>2016</td>\n",
       "    </tr>\n",
       "    <tr>\n",
       "      <th>5</th>\n",
       "      <td>IAN</td>\n",
       "      <td>M</td>\n",
       "      <td>2006</td>\n",
       "      <td>Unknown</td>\n",
       "      <td>10013.0</td>\n",
       "      <td>09/12/2014</td>\n",
       "      <td>10/30/2019</td>\n",
       "      <td>2016</td>\n",
       "    </tr>\n",
       "    <tr>\n",
       "      <th>6</th>\n",
       "      <td>BUDDY</td>\n",
       "      <td>M</td>\n",
       "      <td>2008</td>\n",
       "      <td>Unknown</td>\n",
       "      <td>10025.0</td>\n",
       "      <td>09/12/2014</td>\n",
       "      <td>10/20/2017</td>\n",
       "      <td>2016</td>\n",
       "    </tr>\n",
       "    <tr>\n",
       "      <th>7</th>\n",
       "      <td>CHEWBACCA</td>\n",
       "      <td>F</td>\n",
       "      <td>2012</td>\n",
       "      <td>Labrador Retriever Crossbreed</td>\n",
       "      <td>10013.0</td>\n",
       "      <td>09/12/2014</td>\n",
       "      <td>10/01/2019</td>\n",
       "      <td>2016</td>\n",
       "    </tr>\n",
       "    <tr>\n",
       "      <th>8</th>\n",
       "      <td>HEIDI-BO</td>\n",
       "      <td>F</td>\n",
       "      <td>2007</td>\n",
       "      <td>Dachshund Smooth Coat</td>\n",
       "      <td>11215.0</td>\n",
       "      <td>09/13/2014</td>\n",
       "      <td>04/16/2017</td>\n",
       "      <td>2016</td>\n",
       "    </tr>\n",
       "    <tr>\n",
       "      <th>9</th>\n",
       "      <td>MASSIMO</td>\n",
       "      <td>M</td>\n",
       "      <td>2009</td>\n",
       "      <td>Bull Dog, French</td>\n",
       "      <td>11201.0</td>\n",
       "      <td>09/13/2014</td>\n",
       "      <td>09/17/2017</td>\n",
       "      <td>2016</td>\n",
       "    </tr>\n",
       "    <tr>\n",
       "      <th>10</th>\n",
       "      <td>LOLA</td>\n",
       "      <td>F</td>\n",
       "      <td>2006</td>\n",
       "      <td>Miniature Pinscher</td>\n",
       "      <td>10022.0</td>\n",
       "      <td>09/13/2014</td>\n",
       "      <td>10/03/2019</td>\n",
       "      <td>2016</td>\n",
       "    </tr>\n",
       "    <tr>\n",
       "      <th>11</th>\n",
       "      <td>LEMMY</td>\n",
       "      <td>F</td>\n",
       "      <td>2005</td>\n",
       "      <td>Yorkshire Terrier</td>\n",
       "      <td>10003.0</td>\n",
       "      <td>09/13/2014</td>\n",
       "      <td>10/26/2017</td>\n",
       "      <td>2016</td>\n",
       "    </tr>\n",
       "    <tr>\n",
       "      <th>12</th>\n",
       "      <td>LUCY</td>\n",
       "      <td>F</td>\n",
       "      <td>2014</td>\n",
       "      <td>Dachshund Smooth Coat Miniature</td>\n",
       "      <td>11215.0</td>\n",
       "      <td>09/13/2014</td>\n",
       "      <td>09/13/2019</td>\n",
       "      <td>2016</td>\n",
       "    </tr>\n",
       "    <tr>\n",
       "      <th>13</th>\n",
       "      <td>RICKY</td>\n",
       "      <td>M</td>\n",
       "      <td>2014</td>\n",
       "      <td>German Shepherd Dog</td>\n",
       "      <td>11220.0</td>\n",
       "      <td>09/13/2014</td>\n",
       "      <td>09/13/2017</td>\n",
       "      <td>2016</td>\n",
       "    </tr>\n",
       "    <tr>\n",
       "      <th>14</th>\n",
       "      <td>SARAH</td>\n",
       "      <td>F</td>\n",
       "      <td>2012</td>\n",
       "      <td>Unknown</td>\n",
       "      <td>10040.0</td>\n",
       "      <td>09/13/2014</td>\n",
       "      <td>09/13/2017</td>\n",
       "      <td>2016</td>\n",
       "    </tr>\n",
       "    <tr>\n",
       "      <th>15</th>\n",
       "      <td>MURPHY</td>\n",
       "      <td>M</td>\n",
       "      <td>2012</td>\n",
       "      <td>American Pit Bull Mix / Pit Bull Mix</td>\n",
       "      <td>10463.0</td>\n",
       "      <td>09/13/2014</td>\n",
       "      <td>09/28/2017</td>\n",
       "      <td>2016</td>\n",
       "    </tr>\n",
       "    <tr>\n",
       "      <th>16</th>\n",
       "      <td>JUNE</td>\n",
       "      <td>F</td>\n",
       "      <td>2010</td>\n",
       "      <td>Cavalier King Charles Spaniel</td>\n",
       "      <td>11238.0</td>\n",
       "      <td>09/13/2014</td>\n",
       "      <td>10/28/2019</td>\n",
       "      <td>2016</td>\n",
       "    </tr>\n",
       "    <tr>\n",
       "      <th>17</th>\n",
       "      <td>ELIZABETH</td>\n",
       "      <td>F</td>\n",
       "      <td>2013</td>\n",
       "      <td>Cavalier King Charles Spaniel</td>\n",
       "      <td>10022.0</td>\n",
       "      <td>09/13/2014</td>\n",
       "      <td>09/13/2019</td>\n",
       "      <td>2016</td>\n",
       "    </tr>\n",
       "    <tr>\n",
       "      <th>18</th>\n",
       "      <td>AVERY</td>\n",
       "      <td>F</td>\n",
       "      <td>2014</td>\n",
       "      <td>American Pit Bull Terrier/Pit Bull</td>\n",
       "      <td>10002.0</td>\n",
       "      <td>09/13/2014</td>\n",
       "      <td>09/13/2019</td>\n",
       "      <td>2016</td>\n",
       "    </tr>\n",
       "    <tr>\n",
       "      <th>19</th>\n",
       "      <td>SOPHIE</td>\n",
       "      <td>F</td>\n",
       "      <td>2011</td>\n",
       "      <td>Boxer</td>\n",
       "      <td>10308.0</td>\n",
       "      <td>09/13/2014</td>\n",
       "      <td>10/23/2019</td>\n",
       "      <td>2016</td>\n",
       "    </tr>\n",
       "    <tr>\n",
       "      <th>20</th>\n",
       "      <td>OTIS</td>\n",
       "      <td>F</td>\n",
       "      <td>2001</td>\n",
       "      <td>Unknown</td>\n",
       "      <td>10011.0</td>\n",
       "      <td>09/13/2014</td>\n",
       "      <td>09/29/2017</td>\n",
       "      <td>2016</td>\n",
       "    </tr>\n",
       "    <tr>\n",
       "      <th>21</th>\n",
       "      <td>BENSON</td>\n",
       "      <td>M</td>\n",
       "      <td>2010</td>\n",
       "      <td>Boxer</td>\n",
       "      <td>11209.0</td>\n",
       "      <td>09/13/2014</td>\n",
       "      <td>10/29/2019</td>\n",
       "      <td>2016</td>\n",
       "    </tr>\n",
       "    <tr>\n",
       "      <th>22</th>\n",
       "      <td>BIGS</td>\n",
       "      <td>M</td>\n",
       "      <td>2004</td>\n",
       "      <td>American Pit Bull Terrier/Pit Bull</td>\n",
       "      <td>11208.0</td>\n",
       "      <td>09/13/2014</td>\n",
       "      <td>10/27/2019</td>\n",
       "      <td>2016</td>\n",
       "    </tr>\n",
       "    <tr>\n",
       "      <th>23</th>\n",
       "      <td>LOGAN</td>\n",
       "      <td>M</td>\n",
       "      <td>2003</td>\n",
       "      <td>Unknown</td>\n",
       "      <td>10011.0</td>\n",
       "      <td>09/13/2014</td>\n",
       "      <td>10/30/2017</td>\n",
       "      <td>2016</td>\n",
       "    </tr>\n",
       "    <tr>\n",
       "      <th>24</th>\n",
       "      <td>BESS</td>\n",
       "      <td>F</td>\n",
       "      <td>2010</td>\n",
       "      <td>Beagle</td>\n",
       "      <td>11218.0</td>\n",
       "      <td>09/13/2014</td>\n",
       "      <td>09/13/2016</td>\n",
       "      <td>2016</td>\n",
       "    </tr>\n",
       "    <tr>\n",
       "      <th>25</th>\n",
       "      <td>APPLE</td>\n",
       "      <td>M</td>\n",
       "      <td>2013</td>\n",
       "      <td>Havanese</td>\n",
       "      <td>10025.0</td>\n",
       "      <td>09/13/2014</td>\n",
       "      <td>10/16/2019</td>\n",
       "      <td>2016</td>\n",
       "    </tr>\n",
       "    <tr>\n",
       "      <th>26</th>\n",
       "      <td>MUNECA</td>\n",
       "      <td>F</td>\n",
       "      <td>2013</td>\n",
       "      <td>Beagle</td>\n",
       "      <td>11232.0</td>\n",
       "      <td>09/13/2014</td>\n",
       "      <td>09/13/2019</td>\n",
       "      <td>2016</td>\n",
       "    </tr>\n",
       "    <tr>\n",
       "      <th>27</th>\n",
       "      <td>DOTTIE</td>\n",
       "      <td>F</td>\n",
       "      <td>2013</td>\n",
       "      <td>Poodle, Standard</td>\n",
       "      <td>10025.0</td>\n",
       "      <td>09/13/2014</td>\n",
       "      <td>09/13/2017</td>\n",
       "      <td>2016</td>\n",
       "    </tr>\n",
       "    <tr>\n",
       "      <th>28</th>\n",
       "      <td>OSCAR</td>\n",
       "      <td>M</td>\n",
       "      <td>2008</td>\n",
       "      <td>German Shorthaired Pointer</td>\n",
       "      <td>10025.0</td>\n",
       "      <td>09/13/2014</td>\n",
       "      <td>09/13/2019</td>\n",
       "      <td>2016</td>\n",
       "    </tr>\n",
       "    <tr>\n",
       "      <th>29</th>\n",
       "      <td>BUDDY</td>\n",
       "      <td>M</td>\n",
       "      <td>2012</td>\n",
       "      <td>Bull Terrier</td>\n",
       "      <td>10312.0</td>\n",
       "      <td>09/13/2014</td>\n",
       "      <td>10/05/2019</td>\n",
       "      <td>2016</td>\n",
       "    </tr>\n",
       "  </tbody>\n",
       "</table>\n",
       "</div>"
      ],
      "text/plain": [
       "   AnimalName AnimalGender AnimalBirthYear  \\\n",
       "0       PAIGE            F            2014   \n",
       "1        YOGI            M            2010   \n",
       "2         ALI            M            2014   \n",
       "3       QUEEN            F            2013   \n",
       "4        LOLA            F            2009   \n",
       "5         IAN            M            2006   \n",
       "6       BUDDY            M            2008   \n",
       "7   CHEWBACCA            F            2012   \n",
       "8    HEIDI-BO            F            2007   \n",
       "9     MASSIMO            M            2009   \n",
       "10       LOLA            F            2006   \n",
       "11      LEMMY            F            2005   \n",
       "12       LUCY            F            2014   \n",
       "13      RICKY            M            2014   \n",
       "14      SARAH            F            2012   \n",
       "15     MURPHY            M            2012   \n",
       "16       JUNE            F            2010   \n",
       "17  ELIZABETH            F            2013   \n",
       "18      AVERY            F            2014   \n",
       "19     SOPHIE            F            2011   \n",
       "20       OTIS            F            2001   \n",
       "21     BENSON            M            2010   \n",
       "22       BIGS            M            2004   \n",
       "23      LOGAN            M            2003   \n",
       "24       BESS            F            2010   \n",
       "25      APPLE            M            2013   \n",
       "26     MUNECA            F            2013   \n",
       "27     DOTTIE            F            2013   \n",
       "28      OSCAR            M            2008   \n",
       "29      BUDDY            M            2012   \n",
       "\n",
       "                               BreedName  ZipCode LicenseIssuedDate  \\\n",
       "0   American Pit Bull Mix / Pit Bull Mix  10035.0        09/12/2014   \n",
       "1                                  Boxer  10465.0        09/12/2014   \n",
       "2                                Basenji  10013.0        09/12/2014   \n",
       "3                       Akita Crossbreed  10013.0        09/12/2014   \n",
       "4                                Maltese  10028.0        09/12/2014   \n",
       "5                                Unknown  10013.0        09/12/2014   \n",
       "6                                Unknown  10025.0        09/12/2014   \n",
       "7          Labrador Retriever Crossbreed  10013.0        09/12/2014   \n",
       "8                  Dachshund Smooth Coat  11215.0        09/13/2014   \n",
       "9                       Bull Dog, French  11201.0        09/13/2014   \n",
       "10                    Miniature Pinscher  10022.0        09/13/2014   \n",
       "11                     Yorkshire Terrier  10003.0        09/13/2014   \n",
       "12       Dachshund Smooth Coat Miniature  11215.0        09/13/2014   \n",
       "13                   German Shepherd Dog  11220.0        09/13/2014   \n",
       "14                               Unknown  10040.0        09/13/2014   \n",
       "15  American Pit Bull Mix / Pit Bull Mix  10463.0        09/13/2014   \n",
       "16         Cavalier King Charles Spaniel  11238.0        09/13/2014   \n",
       "17         Cavalier King Charles Spaniel  10022.0        09/13/2014   \n",
       "18    American Pit Bull Terrier/Pit Bull  10002.0        09/13/2014   \n",
       "19                                 Boxer  10308.0        09/13/2014   \n",
       "20                               Unknown  10011.0        09/13/2014   \n",
       "21                                 Boxer  11209.0        09/13/2014   \n",
       "22    American Pit Bull Terrier/Pit Bull  11208.0        09/13/2014   \n",
       "23                               Unknown  10011.0        09/13/2014   \n",
       "24                                Beagle  11218.0        09/13/2014   \n",
       "25                              Havanese  10025.0        09/13/2014   \n",
       "26                                Beagle  11232.0        09/13/2014   \n",
       "27                      Poodle, Standard  10025.0        09/13/2014   \n",
       "28            German Shorthaired Pointer  10025.0        09/13/2014   \n",
       "29                          Bull Terrier  10312.0        09/13/2014   \n",
       "\n",
       "   LicenseExpiredDate  Extract Year  \n",
       "0          09/12/2017          2016  \n",
       "1          10/02/2017          2016  \n",
       "2          09/12/2019          2016  \n",
       "3          09/12/2017          2016  \n",
       "4          10/09/2017          2016  \n",
       "5          10/30/2019          2016  \n",
       "6          10/20/2017          2016  \n",
       "7          10/01/2019          2016  \n",
       "8          04/16/2017          2016  \n",
       "9          09/17/2017          2016  \n",
       "10         10/03/2019          2016  \n",
       "11         10/26/2017          2016  \n",
       "12         09/13/2019          2016  \n",
       "13         09/13/2017          2016  \n",
       "14         09/13/2017          2016  \n",
       "15         09/28/2017          2016  \n",
       "16         10/28/2019          2016  \n",
       "17         09/13/2019          2016  \n",
       "18         09/13/2019          2016  \n",
       "19         10/23/2019          2016  \n",
       "20         09/29/2017          2016  \n",
       "21         10/29/2019          2016  \n",
       "22         10/27/2019          2016  \n",
       "23         10/30/2017          2016  \n",
       "24         09/13/2016          2016  \n",
       "25         10/16/2019          2016  \n",
       "26         09/13/2019          2016  \n",
       "27         09/13/2017          2016  \n",
       "28         09/13/2019          2016  \n",
       "29         10/05/2019          2016  "
      ]
     },
     "execution_count": 51,
     "metadata": {},
     "output_type": "execute_result"
    }
   ],
   "source": [
    "df.head(30)"
   ]
  },
  {
   "cell_type": "markdown",
   "id": "faf6c0a4",
   "metadata": {},
   "source": [
    "- Let's check the data type for each column in the dataset"
   ]
  },
  {
   "cell_type": "code",
   "execution_count": 52,
   "id": "70973c91",
   "metadata": {},
   "outputs": [
    {
     "name": "stdout",
     "output_type": "stream",
     "text": [
      "<class 'pandas.core.frame.DataFrame'>\n",
      "RangeIndex: 722864 entries, 0 to 722863\n",
      "Data columns (total 8 columns):\n",
      " #   Column              Non-Null Count   Dtype  \n",
      "---  ------              --------------   -----  \n",
      " 0   AnimalName          721054 non-null  object \n",
      " 1   AnimalGender        722843 non-null  object \n",
      " 2   AnimalBirthYear     722864 non-null  object \n",
      " 3   BreedName           722864 non-null  object \n",
      " 4   ZipCode             722855 non-null  float64\n",
      " 5   LicenseIssuedDate   722864 non-null  object \n",
      " 6   LicenseExpiredDate  722782 non-null  object \n",
      " 7   Extract Year        722864 non-null  int64  \n",
      "dtypes: float64(1), int64(1), object(6)\n",
      "memory usage: 44.1+ MB\n"
     ]
    }
   ],
   "source": [
    "df.info()"
   ]
  },
  {
   "cell_type": "markdown",
   "id": "83963ef6",
   "metadata": {},
   "source": [
    "Let's change the data type for the dates columns"
   ]
  },
  {
   "cell_type": "markdown",
   "id": "5d1d8cd5",
   "metadata": {},
   "source": [
    "- Let's check for missing values inside the dataset\n",
    "\n"
   ]
  },
  {
   "cell_type": "code",
   "execution_count": 53,
   "id": "41d75c26",
   "metadata": {},
   "outputs": [
    {
     "data": {
      "text/plain": [
       "AnimalName            1810\n",
       "AnimalGender            21\n",
       "AnimalBirthYear          0\n",
       "BreedName                0\n",
       "ZipCode                  9\n",
       "LicenseIssuedDate        0\n",
       "LicenseExpiredDate      82\n",
       "Extract Year             0\n",
       "dtype: int64"
      ]
     },
     "execution_count": 53,
     "metadata": {},
     "output_type": "execute_result"
    }
   ],
   "source": [
    "df.isna().sum()"
   ]
  },
  {
   "cell_type": "markdown",
   "id": "d190c354",
   "metadata": {},
   "source": [
    "- It look like there are not many values missing in this dataset\n",
    "- Let's drop all the missing values. "
   ]
  },
  {
   "cell_type": "code",
   "execution_count": 54,
   "id": "94112b52",
   "metadata": {},
   "outputs": [],
   "source": [
    "df.dropna(inplace=True)"
   ]
  },
  {
   "cell_type": "code",
   "execution_count": 55,
   "id": "acb43d73",
   "metadata": {},
   "outputs": [
    {
     "data": {
      "text/plain": [
       "AnimalName            0\n",
       "AnimalGender          0\n",
       "AnimalBirthYear       0\n",
       "BreedName             0\n",
       "ZipCode               0\n",
       "LicenseIssuedDate     0\n",
       "LicenseExpiredDate    0\n",
       "Extract Year          0\n",
       "dtype: int64"
      ]
     },
     "execution_count": 55,
     "metadata": {},
     "output_type": "execute_result"
    }
   ],
   "source": [
    "df.isna().sum()"
   ]
  },
  {
   "cell_type": "code",
   "execution_count": 56,
   "id": "d54b41a4",
   "metadata": {},
   "outputs": [
    {
     "data": {
      "text/plain": [
       "Index(['AnimalName', 'AnimalGender', 'AnimalBirthYear', 'BreedName', 'ZipCode',\n",
       "       'LicenseIssuedDate', 'LicenseExpiredDate', 'Extract Year'],\n",
       "      dtype='object')"
      ]
     },
     "execution_count": 56,
     "metadata": {},
     "output_type": "execute_result"
    }
   ],
   "source": [
    "df.columns\n"
   ]
  },
  {
   "cell_type": "markdown",
   "id": "2c50392e",
   "metadata": {},
   "source": [
    "- Let's rename the columns for easy data handling"
   ]
  },
  {
   "cell_type": "code",
   "execution_count": 58,
   "id": "134e58a2",
   "metadata": {},
   "outputs": [],
   "source": [
    "df = df.rename(columns={\n",
    "    \"AnimalName\":\"Name\",\n",
    "    \"AnimalGender\":\"Gender\",\n",
    "    \"AnimalBirthYear\":\"BirthYear\",\n",
    "    \"BreedName\":\"Breed\",\n",
    "    \"LicenseIssuedDate\":\"IssuedDate\",\n",
    "    \"LicenseExpiredDate\":\"ExpiredDate\",\n",
    "    \"Extract Year\":\"ExtractYear\",\n",
    "})"
   ]
  },
  {
   "cell_type": "code",
   "execution_count": 59,
   "id": "33ec2207",
   "metadata": {},
   "outputs": [
    {
     "data": {
      "text/html": [
       "<div>\n",
       "<style scoped>\n",
       "    .dataframe tbody tr th:only-of-type {\n",
       "        vertical-align: middle;\n",
       "    }\n",
       "\n",
       "    .dataframe tbody tr th {\n",
       "        vertical-align: top;\n",
       "    }\n",
       "\n",
       "    .dataframe thead th {\n",
       "        text-align: right;\n",
       "    }\n",
       "</style>\n",
       "<table border=\"1\" class=\"dataframe\">\n",
       "  <thead>\n",
       "    <tr style=\"text-align: right;\">\n",
       "      <th></th>\n",
       "      <th>Name</th>\n",
       "      <th>Gender</th>\n",
       "      <th>BirthYear</th>\n",
       "      <th>Breed</th>\n",
       "      <th>ZipCode</th>\n",
       "      <th>IssuedDate</th>\n",
       "      <th>ExpiredDate</th>\n",
       "      <th>ExtractYear</th>\n",
       "    </tr>\n",
       "  </thead>\n",
       "  <tbody>\n",
       "    <tr>\n",
       "      <th>0</th>\n",
       "      <td>PAIGE</td>\n",
       "      <td>F</td>\n",
       "      <td>2014</td>\n",
       "      <td>American Pit Bull Mix / Pit Bull Mix</td>\n",
       "      <td>10035.0</td>\n",
       "      <td>09/12/2014</td>\n",
       "      <td>09/12/2017</td>\n",
       "      <td>2016</td>\n",
       "    </tr>\n",
       "    <tr>\n",
       "      <th>1</th>\n",
       "      <td>YOGI</td>\n",
       "      <td>M</td>\n",
       "      <td>2010</td>\n",
       "      <td>Boxer</td>\n",
       "      <td>10465.0</td>\n",
       "      <td>09/12/2014</td>\n",
       "      <td>10/02/2017</td>\n",
       "      <td>2016</td>\n",
       "    </tr>\n",
       "    <tr>\n",
       "      <th>2</th>\n",
       "      <td>ALI</td>\n",
       "      <td>M</td>\n",
       "      <td>2014</td>\n",
       "      <td>Basenji</td>\n",
       "      <td>10013.0</td>\n",
       "      <td>09/12/2014</td>\n",
       "      <td>09/12/2019</td>\n",
       "      <td>2016</td>\n",
       "    </tr>\n",
       "    <tr>\n",
       "      <th>3</th>\n",
       "      <td>QUEEN</td>\n",
       "      <td>F</td>\n",
       "      <td>2013</td>\n",
       "      <td>Akita Crossbreed</td>\n",
       "      <td>10013.0</td>\n",
       "      <td>09/12/2014</td>\n",
       "      <td>09/12/2017</td>\n",
       "      <td>2016</td>\n",
       "    </tr>\n",
       "    <tr>\n",
       "      <th>4</th>\n",
       "      <td>LOLA</td>\n",
       "      <td>F</td>\n",
       "      <td>2009</td>\n",
       "      <td>Maltese</td>\n",
       "      <td>10028.0</td>\n",
       "      <td>09/12/2014</td>\n",
       "      <td>10/09/2017</td>\n",
       "      <td>2016</td>\n",
       "    </tr>\n",
       "  </tbody>\n",
       "</table>\n",
       "</div>"
      ],
      "text/plain": [
       "    Name Gender BirthYear                                 Breed  ZipCode  \\\n",
       "0  PAIGE      F      2014  American Pit Bull Mix / Pit Bull Mix  10035.0   \n",
       "1   YOGI      M      2010                                 Boxer  10465.0   \n",
       "2    ALI      M      2014                               Basenji  10013.0   \n",
       "3  QUEEN      F      2013                      Akita Crossbreed  10013.0   \n",
       "4   LOLA      F      2009                               Maltese  10028.0   \n",
       "\n",
       "   IssuedDate ExpiredDate  ExtractYear  \n",
       "0  09/12/2014  09/12/2017         2016  \n",
       "1  09/12/2014  10/02/2017         2016  \n",
       "2  09/12/2014  09/12/2019         2016  \n",
       "3  09/12/2014  09/12/2017         2016  \n",
       "4  09/12/2014  10/09/2017         2016  "
      ]
     },
     "execution_count": 59,
     "metadata": {},
     "output_type": "execute_result"
    }
   ],
   "source": [
    "df.head()"
   ]
  },
  {
   "cell_type": "markdown",
   "id": "6f6bd602",
   "metadata": {},
   "source": [
    "- Let's change the data type for certain columns in the right format to help us find insight wiht the data\n",
    "- Also this can help us for example use date time function on the dates columns to extract the month or the year. "
   ]
  },
  {
   "cell_type": "code",
   "execution_count": 60,
   "id": "868737df",
   "metadata": {},
   "outputs": [],
   "source": [
    "# Convert dates to datetime\n",
    "df[\"IssuedDate\"] = pd.to_datetime(df[\"IssuedDate\"],errors='coerce')\n",
    "df[\"ExpiredDate\"] = pd.to_datetime(df[\"ExpiredDate\"],errors='coerce')\n",
    "# Convert BirthYear to numeric\n",
    "df['BirthYear'] = pd.to_numeric(df['BirthYear'], errors='coerce')\n"
   ]
  },
  {
   "cell_type": "markdown",
   "id": "29352379",
   "metadata": {},
   "source": [
    "Let's create a dictionary to map zip codes with borough names\n",
    "- Using borough we are going to explore areas with lower licensing compliance, which can help in targeted public health and safety campaigns. "
   ]
  },
  {
   "cell_type": "code",
   "execution_count": 61,
   "id": "2f24b11c",
   "metadata": {},
   "outputs": [],
   "source": [
    "zipcodes = {\n",
    "    'Manhattan': (10001, 10282),\n",
    "    'The Bronx': (10451, 10475),\n",
    "    'Brooklyn': (11201, 11256),\n",
    "    'Queens': [(11004, 11109), (11351, 11697)],\n",
    "    'Staten Island': (10301, 10314)\n",
    "}\n",
    "def get_borough(zipcode):\n",
    "    if pd.isna(zipcode):\n",
    "        return 'Unknown'\n",
    "    if zipcodes['Manhattan'][0] <= zipcode <= zipcodes['Manhattan'][1]:\n",
    "        return 'Manhattan'\n",
    "    elif zipcodes['The Bronx'][0] <= zipcode <= zipcodes['The Bronx'][1]:\n",
    "        return 'The Bronx'\n",
    "    elif zipcodes['Brooklyn'][0] <= zipcode <= zipcodes['Brooklyn'][1]:\n",
    "        return 'Brooklyn'\n",
    "    elif (zipcodes['Queens'][0][0] <= zipcode <= zipcodes['Queens'][0][1]) or \\\n",
    "         (zipcodes['Queens'][1][0] <= zipcode <= zipcodes['Queens'][1][1]):\n",
    "        return 'Queens'\n",
    "    elif zipcodes['Staten Island'][0] <= zipcode <= zipcodes['Staten Island'][1]:\n",
    "        return 'Staten Island'\n",
    "    else:\n",
    "        return 'Unknown'\n",
    "df['Borough'] = df['ZipCode'].apply(get_borough)"
   ]
  },
  {
   "cell_type": "code",
   "execution_count": 62,
   "id": "0f08f036",
   "metadata": {},
   "outputs": [
    {
     "data": {
      "text/plain": [
       "0    Manhattan\n",
       "1    The Bronx\n",
       "2    Manhattan\n",
       "3    Manhattan\n",
       "4    Manhattan\n",
       "Name: Borough, dtype: object"
      ]
     },
     "execution_count": 62,
     "metadata": {},
     "output_type": "execute_result"
    }
   ],
   "source": [
    "df['Borough'].head()"
   ]
  },
  {
   "cell_type": "code",
   "execution_count": 63,
   "id": "688b210b",
   "metadata": {},
   "outputs": [
    {
     "name": "stdout",
     "output_type": "stream",
     "text": [
      "<class 'pandas.core.frame.DataFrame'>\n",
      "Index: 720943 entries, 0 to 722863\n",
      "Data columns (total 9 columns):\n",
      " #   Column       Non-Null Count   Dtype         \n",
      "---  ------       --------------   -----         \n",
      " 0   Name         720943 non-null  object        \n",
      " 1   Gender       720943 non-null  object        \n",
      " 2   BirthYear    720913 non-null  float64       \n",
      " 3   Breed        720943 non-null  object        \n",
      " 4   ZipCode      720943 non-null  float64       \n",
      " 5   IssuedDate   720943 non-null  datetime64[ns]\n",
      " 6   ExpiredDate  720943 non-null  datetime64[ns]\n",
      " 7   ExtractYear  720943 non-null  int64         \n",
      " 8   Borough      720943 non-null  object        \n",
      "dtypes: datetime64[ns](2), float64(2), int64(1), object(4)\n",
      "memory usage: 55.0+ MB\n"
     ]
    }
   ],
   "source": [
    "df.info()"
   ]
  },
  {
   "cell_type": "markdown",
   "id": "543107cc",
   "metadata": {},
   "source": [
    "The following line of code create a new columns to store the Dog age when the licence is made\n",
    "- This column can help us later to group the data by borough and get the average dog age. "
   ]
  },
  {
   "cell_type": "code",
   "execution_count": null,
   "id": "5a0dab1b",
   "metadata": {},
   "outputs": [],
   "source": [
    "df['IssueYear'] = df['IssuedDate'].dt.year\n",
    "df['IssueMonth'] = df['IssuedDate'].dt.month_name()\n",
    "df['DogAgeAtLicense'] = df['IssueYear'] - df['BirthYear']\n",
    "\n",
    "#The following line of code create a new columns to store the Dog age when the licence is made\n",
    "#This column can help us later to group the data by borough and get the average dog age. "
   ]
  },
  {
   "cell_type": "code",
   "execution_count": 66,
   "id": "4ad7f8f3",
   "metadata": {},
   "outputs": [
    {
     "data": {
      "text/html": [
       "<div>\n",
       "<style scoped>\n",
       "    .dataframe tbody tr th:only-of-type {\n",
       "        vertical-align: middle;\n",
       "    }\n",
       "\n",
       "    .dataframe tbody tr th {\n",
       "        vertical-align: top;\n",
       "    }\n",
       "\n",
       "    .dataframe thead th {\n",
       "        text-align: right;\n",
       "    }\n",
       "</style>\n",
       "<table border=\"1\" class=\"dataframe\">\n",
       "  <thead>\n",
       "    <tr style=\"text-align: right;\">\n",
       "      <th></th>\n",
       "      <th>Name</th>\n",
       "      <th>Gender</th>\n",
       "      <th>BirthYear</th>\n",
       "      <th>Breed</th>\n",
       "      <th>ZipCode</th>\n",
       "      <th>IssuedDate</th>\n",
       "      <th>ExpiredDate</th>\n",
       "      <th>ExtractYear</th>\n",
       "      <th>Borough</th>\n",
       "      <th>DogAgeAtLicense</th>\n",
       "      <th>IssueYear</th>\n",
       "      <th>IssueMonth</th>\n",
       "    </tr>\n",
       "  </thead>\n",
       "  <tbody>\n",
       "    <tr>\n",
       "      <th>0</th>\n",
       "      <td>PAIGE</td>\n",
       "      <td>F</td>\n",
       "      <td>2014.0</td>\n",
       "      <td>American Pit Bull Mix / Pit Bull Mix</td>\n",
       "      <td>10035.0</td>\n",
       "      <td>2014-09-12</td>\n",
       "      <td>2017-09-12</td>\n",
       "      <td>2016</td>\n",
       "      <td>Manhattan</td>\n",
       "      <td>0.0</td>\n",
       "      <td>2014</td>\n",
       "      <td>September</td>\n",
       "    </tr>\n",
       "    <tr>\n",
       "      <th>1</th>\n",
       "      <td>YOGI</td>\n",
       "      <td>M</td>\n",
       "      <td>2010.0</td>\n",
       "      <td>Boxer</td>\n",
       "      <td>10465.0</td>\n",
       "      <td>2014-09-12</td>\n",
       "      <td>2017-10-02</td>\n",
       "      <td>2016</td>\n",
       "      <td>The Bronx</td>\n",
       "      <td>4.0</td>\n",
       "      <td>2014</td>\n",
       "      <td>September</td>\n",
       "    </tr>\n",
       "    <tr>\n",
       "      <th>2</th>\n",
       "      <td>ALI</td>\n",
       "      <td>M</td>\n",
       "      <td>2014.0</td>\n",
       "      <td>Basenji</td>\n",
       "      <td>10013.0</td>\n",
       "      <td>2014-09-12</td>\n",
       "      <td>2019-09-12</td>\n",
       "      <td>2016</td>\n",
       "      <td>Manhattan</td>\n",
       "      <td>0.0</td>\n",
       "      <td>2014</td>\n",
       "      <td>September</td>\n",
       "    </tr>\n",
       "    <tr>\n",
       "      <th>3</th>\n",
       "      <td>QUEEN</td>\n",
       "      <td>F</td>\n",
       "      <td>2013.0</td>\n",
       "      <td>Akita Crossbreed</td>\n",
       "      <td>10013.0</td>\n",
       "      <td>2014-09-12</td>\n",
       "      <td>2017-09-12</td>\n",
       "      <td>2016</td>\n",
       "      <td>Manhattan</td>\n",
       "      <td>1.0</td>\n",
       "      <td>2014</td>\n",
       "      <td>September</td>\n",
       "    </tr>\n",
       "    <tr>\n",
       "      <th>4</th>\n",
       "      <td>LOLA</td>\n",
       "      <td>F</td>\n",
       "      <td>2009.0</td>\n",
       "      <td>Maltese</td>\n",
       "      <td>10028.0</td>\n",
       "      <td>2014-09-12</td>\n",
       "      <td>2017-10-09</td>\n",
       "      <td>2016</td>\n",
       "      <td>Manhattan</td>\n",
       "      <td>5.0</td>\n",
       "      <td>2014</td>\n",
       "      <td>September</td>\n",
       "    </tr>\n",
       "    <tr>\n",
       "      <th>5</th>\n",
       "      <td>IAN</td>\n",
       "      <td>M</td>\n",
       "      <td>2006.0</td>\n",
       "      <td>Unknown</td>\n",
       "      <td>10013.0</td>\n",
       "      <td>2014-09-12</td>\n",
       "      <td>2019-10-30</td>\n",
       "      <td>2016</td>\n",
       "      <td>Manhattan</td>\n",
       "      <td>8.0</td>\n",
       "      <td>2014</td>\n",
       "      <td>September</td>\n",
       "    </tr>\n",
       "    <tr>\n",
       "      <th>6</th>\n",
       "      <td>BUDDY</td>\n",
       "      <td>M</td>\n",
       "      <td>2008.0</td>\n",
       "      <td>Unknown</td>\n",
       "      <td>10025.0</td>\n",
       "      <td>2014-09-12</td>\n",
       "      <td>2017-10-20</td>\n",
       "      <td>2016</td>\n",
       "      <td>Manhattan</td>\n",
       "      <td>6.0</td>\n",
       "      <td>2014</td>\n",
       "      <td>September</td>\n",
       "    </tr>\n",
       "    <tr>\n",
       "      <th>7</th>\n",
       "      <td>CHEWBACCA</td>\n",
       "      <td>F</td>\n",
       "      <td>2012.0</td>\n",
       "      <td>Labrador Retriever Crossbreed</td>\n",
       "      <td>10013.0</td>\n",
       "      <td>2014-09-12</td>\n",
       "      <td>2019-10-01</td>\n",
       "      <td>2016</td>\n",
       "      <td>Manhattan</td>\n",
       "      <td>2.0</td>\n",
       "      <td>2014</td>\n",
       "      <td>September</td>\n",
       "    </tr>\n",
       "    <tr>\n",
       "      <th>8</th>\n",
       "      <td>HEIDI-BO</td>\n",
       "      <td>F</td>\n",
       "      <td>2007.0</td>\n",
       "      <td>Dachshund Smooth Coat</td>\n",
       "      <td>11215.0</td>\n",
       "      <td>2014-09-13</td>\n",
       "      <td>2017-04-16</td>\n",
       "      <td>2016</td>\n",
       "      <td>Brooklyn</td>\n",
       "      <td>7.0</td>\n",
       "      <td>2014</td>\n",
       "      <td>September</td>\n",
       "    </tr>\n",
       "    <tr>\n",
       "      <th>9</th>\n",
       "      <td>MASSIMO</td>\n",
       "      <td>M</td>\n",
       "      <td>2009.0</td>\n",
       "      <td>Bull Dog, French</td>\n",
       "      <td>11201.0</td>\n",
       "      <td>2014-09-13</td>\n",
       "      <td>2017-09-17</td>\n",
       "      <td>2016</td>\n",
       "      <td>Brooklyn</td>\n",
       "      <td>5.0</td>\n",
       "      <td>2014</td>\n",
       "      <td>September</td>\n",
       "    </tr>\n",
       "  </tbody>\n",
       "</table>\n",
       "</div>"
      ],
      "text/plain": [
       "        Name Gender  BirthYear                                 Breed  ZipCode  \\\n",
       "0      PAIGE      F     2014.0  American Pit Bull Mix / Pit Bull Mix  10035.0   \n",
       "1       YOGI      M     2010.0                                 Boxer  10465.0   \n",
       "2        ALI      M     2014.0                               Basenji  10013.0   \n",
       "3      QUEEN      F     2013.0                      Akita Crossbreed  10013.0   \n",
       "4       LOLA      F     2009.0                               Maltese  10028.0   \n",
       "5        IAN      M     2006.0                               Unknown  10013.0   \n",
       "6      BUDDY      M     2008.0                               Unknown  10025.0   \n",
       "7  CHEWBACCA      F     2012.0         Labrador Retriever Crossbreed  10013.0   \n",
       "8   HEIDI-BO      F     2007.0                 Dachshund Smooth Coat  11215.0   \n",
       "9    MASSIMO      M     2009.0                      Bull Dog, French  11201.0   \n",
       "\n",
       "  IssuedDate ExpiredDate  ExtractYear    Borough  DogAgeAtLicense  IssueYear  \\\n",
       "0 2014-09-12  2017-09-12         2016  Manhattan              0.0       2014   \n",
       "1 2014-09-12  2017-10-02         2016  The Bronx              4.0       2014   \n",
       "2 2014-09-12  2019-09-12         2016  Manhattan              0.0       2014   \n",
       "3 2014-09-12  2017-09-12         2016  Manhattan              1.0       2014   \n",
       "4 2014-09-12  2017-10-09         2016  Manhattan              5.0       2014   \n",
       "5 2014-09-12  2019-10-30         2016  Manhattan              8.0       2014   \n",
       "6 2014-09-12  2017-10-20         2016  Manhattan              6.0       2014   \n",
       "7 2014-09-12  2019-10-01         2016  Manhattan              2.0       2014   \n",
       "8 2014-09-13  2017-04-16         2016   Brooklyn              7.0       2014   \n",
       "9 2014-09-13  2017-09-17         2016   Brooklyn              5.0       2014   \n",
       "\n",
       "  IssueMonth  \n",
       "0  September  \n",
       "1  September  \n",
       "2  September  \n",
       "3  September  \n",
       "4  September  \n",
       "5  September  \n",
       "6  September  \n",
       "7  September  \n",
       "8  September  \n",
       "9  September  "
      ]
     },
     "execution_count": 66,
     "metadata": {},
     "output_type": "execute_result"
    }
   ],
   "source": [
    "df.head(10)"
   ]
  },
  {
   "cell_type": "markdown",
   "id": "00cc8d4d",
   "metadata": {},
   "source": [
    "- Let's count the number of `licences` by `Borough`\n",
    "- We can use Group"
   ]
  },
  {
   "cell_type": "code",
   "execution_count": 67,
   "id": "e3fb8c01",
   "metadata": {},
   "outputs": [],
   "source": [
    "licenses_by_borough=df.groupby('Borough')['IssuedDate'].count().reset_index(False)"
   ]
  },
  {
   "cell_type": "code",
   "execution_count": 68,
   "id": "1ae792a0",
   "metadata": {},
   "outputs": [
    {
     "data": {
      "text/html": [
       "<div>\n",
       "<style scoped>\n",
       "    .dataframe tbody tr th:only-of-type {\n",
       "        vertical-align: middle;\n",
       "    }\n",
       "\n",
       "    .dataframe tbody tr th {\n",
       "        vertical-align: top;\n",
       "    }\n",
       "\n",
       "    .dataframe thead th {\n",
       "        text-align: right;\n",
       "    }\n",
       "</style>\n",
       "<table border=\"1\" class=\"dataframe\">\n",
       "  <thead>\n",
       "    <tr style=\"text-align: right;\">\n",
       "      <th></th>\n",
       "      <th>Borough</th>\n",
       "      <th>IssuedDate</th>\n",
       "    </tr>\n",
       "  </thead>\n",
       "  <tbody>\n",
       "    <tr>\n",
       "      <th>0</th>\n",
       "      <td>Brooklyn</td>\n",
       "      <td>194187</td>\n",
       "    </tr>\n",
       "    <tr>\n",
       "      <th>1</th>\n",
       "      <td>Manhattan</td>\n",
       "      <td>241400</td>\n",
       "    </tr>\n",
       "    <tr>\n",
       "      <th>2</th>\n",
       "      <td>Queens</td>\n",
       "      <td>148569</td>\n",
       "    </tr>\n",
       "    <tr>\n",
       "      <th>3</th>\n",
       "      <td>Staten Island</td>\n",
       "      <td>59743</td>\n",
       "    </tr>\n",
       "    <tr>\n",
       "      <th>4</th>\n",
       "      <td>The Bronx</td>\n",
       "      <td>74540</td>\n",
       "    </tr>\n",
       "    <tr>\n",
       "      <th>5</th>\n",
       "      <td>Unknown</td>\n",
       "      <td>2504</td>\n",
       "    </tr>\n",
       "  </tbody>\n",
       "</table>\n",
       "</div>"
      ],
      "text/plain": [
       "         Borough  IssuedDate\n",
       "0       Brooklyn      194187\n",
       "1      Manhattan      241400\n",
       "2         Queens      148569\n",
       "3  Staten Island       59743\n",
       "4      The Bronx       74540\n",
       "5        Unknown        2504"
      ]
     },
     "execution_count": 68,
     "metadata": {},
     "output_type": "execute_result"
    }
   ],
   "source": [
    "licenses_by_borough"
   ]
  },
  {
   "cell_type": "code",
   "execution_count": 89,
   "id": "80c181af",
   "metadata": {},
   "outputs": [
    {
     "data": {
      "text/plain": [
       "IssueMonth\n",
       "July         69134\n",
       "August       67569\n",
       "September    64879\n",
       "March        62612\n",
       "January      60504\n",
       "June         60240\n",
       "October      60160\n",
       "May          58998\n",
       "April        57396\n",
       "February     56477\n",
       "December     52955\n",
       "November     50019\n",
       "Name: IssuedDate, dtype: int64"
      ]
     },
     "execution_count": 89,
     "metadata": {},
     "output_type": "execute_result"
    }
   ],
   "source": [
    "df.groupby(\"IssueMonth\")[\"IssuedDate\"].count().sort_values(ascending=False)"
   ]
  },
  {
   "cell_type": "markdown",
   "id": "6a264d53",
   "metadata": {},
   "source": [
    "Look like the licences are most made in summer!\n",
    "- July it the peek month\n",
    "- November is the month with the lowest licences made. "
   ]
  },
  {
   "cell_type": "markdown",
   "id": "65dc27d9",
   "metadata": {},
   "source": [
    "Let's create a quick visual with plotly to see the difference in number of licences for each Borough"
   ]
  },
  {
   "cell_type": "code",
   "execution_count": null,
   "id": "1f23863b",
   "metadata": {},
   "outputs": [
    {
     "data": {
      "application/vnd.plotly.v1+json": {
       "config": {
        "plotlyServerURL": "https://plot.ly"
       },
       "data": [
        {
         "hovertemplate": "Borough=%{x}<br>IssuedDate=%{y}<extra></extra>",
         "legendgroup": "",
         "marker": {
          "color": "#636efa",
          "pattern": {
           "shape": ""
          }
         },
         "name": "",
         "orientation": "v",
         "showlegend": false,
         "textposition": "auto",
         "type": "bar",
         "x": [
          "Brooklyn",
          "Manhattan",
          "Queens",
          "Staten Island",
          "The Bronx",
          "Unknown"
         ],
         "xaxis": "x",
         "y": {
          "bdata": "i/YCAPiuAwBZRAIAX+kAACwjAQDICQAA",
          "dtype": "i4"
         },
         "yaxis": "y"
        }
       ],
       "layout": {
        "barmode": "relative",
        "legend": {
         "tracegroupgap": 0
        },
        "template": {
         "data": {
          "bar": [
           {
            "error_x": {
             "color": "#2a3f5f"
            },
            "error_y": {
             "color": "#2a3f5f"
            },
            "marker": {
             "line": {
              "color": "#E5ECF6",
              "width": 0.5
             },
             "pattern": {
              "fillmode": "overlay",
              "size": 10,
              "solidity": 0.2
             }
            },
            "type": "bar"
           }
          ],
          "barpolar": [
           {
            "marker": {
             "line": {
              "color": "#E5ECF6",
              "width": 0.5
             },
             "pattern": {
              "fillmode": "overlay",
              "size": 10,
              "solidity": 0.2
             }
            },
            "type": "barpolar"
           }
          ],
          "carpet": [
           {
            "aaxis": {
             "endlinecolor": "#2a3f5f",
             "gridcolor": "white",
             "linecolor": "white",
             "minorgridcolor": "white",
             "startlinecolor": "#2a3f5f"
            },
            "baxis": {
             "endlinecolor": "#2a3f5f",
             "gridcolor": "white",
             "linecolor": "white",
             "minorgridcolor": "white",
             "startlinecolor": "#2a3f5f"
            },
            "type": "carpet"
           }
          ],
          "choropleth": [
           {
            "colorbar": {
             "outlinewidth": 0,
             "ticks": ""
            },
            "type": "choropleth"
           }
          ],
          "contour": [
           {
            "colorbar": {
             "outlinewidth": 0,
             "ticks": ""
            },
            "colorscale": [
             [
              0,
              "#0d0887"
             ],
             [
              0.1111111111111111,
              "#46039f"
             ],
             [
              0.2222222222222222,
              "#7201a8"
             ],
             [
              0.3333333333333333,
              "#9c179e"
             ],
             [
              0.4444444444444444,
              "#bd3786"
             ],
             [
              0.5555555555555556,
              "#d8576b"
             ],
             [
              0.6666666666666666,
              "#ed7953"
             ],
             [
              0.7777777777777778,
              "#fb9f3a"
             ],
             [
              0.8888888888888888,
              "#fdca26"
             ],
             [
              1,
              "#f0f921"
             ]
            ],
            "type": "contour"
           }
          ],
          "contourcarpet": [
           {
            "colorbar": {
             "outlinewidth": 0,
             "ticks": ""
            },
            "type": "contourcarpet"
           }
          ],
          "heatmap": [
           {
            "colorbar": {
             "outlinewidth": 0,
             "ticks": ""
            },
            "colorscale": [
             [
              0,
              "#0d0887"
             ],
             [
              0.1111111111111111,
              "#46039f"
             ],
             [
              0.2222222222222222,
              "#7201a8"
             ],
             [
              0.3333333333333333,
              "#9c179e"
             ],
             [
              0.4444444444444444,
              "#bd3786"
             ],
             [
              0.5555555555555556,
              "#d8576b"
             ],
             [
              0.6666666666666666,
              "#ed7953"
             ],
             [
              0.7777777777777778,
              "#fb9f3a"
             ],
             [
              0.8888888888888888,
              "#fdca26"
             ],
             [
              1,
              "#f0f921"
             ]
            ],
            "type": "heatmap"
           }
          ],
          "histogram": [
           {
            "marker": {
             "pattern": {
              "fillmode": "overlay",
              "size": 10,
              "solidity": 0.2
             }
            },
            "type": "histogram"
           }
          ],
          "histogram2d": [
           {
            "colorbar": {
             "outlinewidth": 0,
             "ticks": ""
            },
            "colorscale": [
             [
              0,
              "#0d0887"
             ],
             [
              0.1111111111111111,
              "#46039f"
             ],
             [
              0.2222222222222222,
              "#7201a8"
             ],
             [
              0.3333333333333333,
              "#9c179e"
             ],
             [
              0.4444444444444444,
              "#bd3786"
             ],
             [
              0.5555555555555556,
              "#d8576b"
             ],
             [
              0.6666666666666666,
              "#ed7953"
             ],
             [
              0.7777777777777778,
              "#fb9f3a"
             ],
             [
              0.8888888888888888,
              "#fdca26"
             ],
             [
              1,
              "#f0f921"
             ]
            ],
            "type": "histogram2d"
           }
          ],
          "histogram2dcontour": [
           {
            "colorbar": {
             "outlinewidth": 0,
             "ticks": ""
            },
            "colorscale": [
             [
              0,
              "#0d0887"
             ],
             [
              0.1111111111111111,
              "#46039f"
             ],
             [
              0.2222222222222222,
              "#7201a8"
             ],
             [
              0.3333333333333333,
              "#9c179e"
             ],
             [
              0.4444444444444444,
              "#bd3786"
             ],
             [
              0.5555555555555556,
              "#d8576b"
             ],
             [
              0.6666666666666666,
              "#ed7953"
             ],
             [
              0.7777777777777778,
              "#fb9f3a"
             ],
             [
              0.8888888888888888,
              "#fdca26"
             ],
             [
              1,
              "#f0f921"
             ]
            ],
            "type": "histogram2dcontour"
           }
          ],
          "mesh3d": [
           {
            "colorbar": {
             "outlinewidth": 0,
             "ticks": ""
            },
            "type": "mesh3d"
           }
          ],
          "parcoords": [
           {
            "line": {
             "colorbar": {
              "outlinewidth": 0,
              "ticks": ""
             }
            },
            "type": "parcoords"
           }
          ],
          "pie": [
           {
            "automargin": true,
            "type": "pie"
           }
          ],
          "scatter": [
           {
            "fillpattern": {
             "fillmode": "overlay",
             "size": 10,
             "solidity": 0.2
            },
            "type": "scatter"
           }
          ],
          "scatter3d": [
           {
            "line": {
             "colorbar": {
              "outlinewidth": 0,
              "ticks": ""
             }
            },
            "marker": {
             "colorbar": {
              "outlinewidth": 0,
              "ticks": ""
             }
            },
            "type": "scatter3d"
           }
          ],
          "scattercarpet": [
           {
            "marker": {
             "colorbar": {
              "outlinewidth": 0,
              "ticks": ""
             }
            },
            "type": "scattercarpet"
           }
          ],
          "scattergeo": [
           {
            "marker": {
             "colorbar": {
              "outlinewidth": 0,
              "ticks": ""
             }
            },
            "type": "scattergeo"
           }
          ],
          "scattergl": [
           {
            "marker": {
             "colorbar": {
              "outlinewidth": 0,
              "ticks": ""
             }
            },
            "type": "scattergl"
           }
          ],
          "scattermap": [
           {
            "marker": {
             "colorbar": {
              "outlinewidth": 0,
              "ticks": ""
             }
            },
            "type": "scattermap"
           }
          ],
          "scattermapbox": [
           {
            "marker": {
             "colorbar": {
              "outlinewidth": 0,
              "ticks": ""
             }
            },
            "type": "scattermapbox"
           }
          ],
          "scatterpolar": [
           {
            "marker": {
             "colorbar": {
              "outlinewidth": 0,
              "ticks": ""
             }
            },
            "type": "scatterpolar"
           }
          ],
          "scatterpolargl": [
           {
            "marker": {
             "colorbar": {
              "outlinewidth": 0,
              "ticks": ""
             }
            },
            "type": "scatterpolargl"
           }
          ],
          "scatterternary": [
           {
            "marker": {
             "colorbar": {
              "outlinewidth": 0,
              "ticks": ""
             }
            },
            "type": "scatterternary"
           }
          ],
          "surface": [
           {
            "colorbar": {
             "outlinewidth": 0,
             "ticks": ""
            },
            "colorscale": [
             [
              0,
              "#0d0887"
             ],
             [
              0.1111111111111111,
              "#46039f"
             ],
             [
              0.2222222222222222,
              "#7201a8"
             ],
             [
              0.3333333333333333,
              "#9c179e"
             ],
             [
              0.4444444444444444,
              "#bd3786"
             ],
             [
              0.5555555555555556,
              "#d8576b"
             ],
             [
              0.6666666666666666,
              "#ed7953"
             ],
             [
              0.7777777777777778,
              "#fb9f3a"
             ],
             [
              0.8888888888888888,
              "#fdca26"
             ],
             [
              1,
              "#f0f921"
             ]
            ],
            "type": "surface"
           }
          ],
          "table": [
           {
            "cells": {
             "fill": {
              "color": "#EBF0F8"
             },
             "line": {
              "color": "white"
             }
            },
            "header": {
             "fill": {
              "color": "#C8D4E3"
             },
             "line": {
              "color": "white"
             }
            },
            "type": "table"
           }
          ]
         },
         "layout": {
          "annotationdefaults": {
           "arrowcolor": "#2a3f5f",
           "arrowhead": 0,
           "arrowwidth": 1
          },
          "autotypenumbers": "strict",
          "coloraxis": {
           "colorbar": {
            "outlinewidth": 0,
            "ticks": ""
           }
          },
          "colorscale": {
           "diverging": [
            [
             0,
             "#8e0152"
            ],
            [
             0.1,
             "#c51b7d"
            ],
            [
             0.2,
             "#de77ae"
            ],
            [
             0.3,
             "#f1b6da"
            ],
            [
             0.4,
             "#fde0ef"
            ],
            [
             0.5,
             "#f7f7f7"
            ],
            [
             0.6,
             "#e6f5d0"
            ],
            [
             0.7,
             "#b8e186"
            ],
            [
             0.8,
             "#7fbc41"
            ],
            [
             0.9,
             "#4d9221"
            ],
            [
             1,
             "#276419"
            ]
           ],
           "sequential": [
            [
             0,
             "#0d0887"
            ],
            [
             0.1111111111111111,
             "#46039f"
            ],
            [
             0.2222222222222222,
             "#7201a8"
            ],
            [
             0.3333333333333333,
             "#9c179e"
            ],
            [
             0.4444444444444444,
             "#bd3786"
            ],
            [
             0.5555555555555556,
             "#d8576b"
            ],
            [
             0.6666666666666666,
             "#ed7953"
            ],
            [
             0.7777777777777778,
             "#fb9f3a"
            ],
            [
             0.8888888888888888,
             "#fdca26"
            ],
            [
             1,
             "#f0f921"
            ]
           ],
           "sequentialminus": [
            [
             0,
             "#0d0887"
            ],
            [
             0.1111111111111111,
             "#46039f"
            ],
            [
             0.2222222222222222,
             "#7201a8"
            ],
            [
             0.3333333333333333,
             "#9c179e"
            ],
            [
             0.4444444444444444,
             "#bd3786"
            ],
            [
             0.5555555555555556,
             "#d8576b"
            ],
            [
             0.6666666666666666,
             "#ed7953"
            ],
            [
             0.7777777777777778,
             "#fb9f3a"
            ],
            [
             0.8888888888888888,
             "#fdca26"
            ],
            [
             1,
             "#f0f921"
            ]
           ]
          },
          "colorway": [
           "#636efa",
           "#EF553B",
           "#00cc96",
           "#ab63fa",
           "#FFA15A",
           "#19d3f3",
           "#FF6692",
           "#B6E880",
           "#FF97FF",
           "#FECB52"
          ],
          "font": {
           "color": "#2a3f5f"
          },
          "geo": {
           "bgcolor": "white",
           "lakecolor": "white",
           "landcolor": "#E5ECF6",
           "showlakes": true,
           "showland": true,
           "subunitcolor": "white"
          },
          "hoverlabel": {
           "align": "left"
          },
          "hovermode": "closest",
          "mapbox": {
           "style": "light"
          },
          "paper_bgcolor": "white",
          "plot_bgcolor": "#E5ECF6",
          "polar": {
           "angularaxis": {
            "gridcolor": "white",
            "linecolor": "white",
            "ticks": ""
           },
           "bgcolor": "#E5ECF6",
           "radialaxis": {
            "gridcolor": "white",
            "linecolor": "white",
            "ticks": ""
           }
          },
          "scene": {
           "xaxis": {
            "backgroundcolor": "#E5ECF6",
            "gridcolor": "white",
            "gridwidth": 2,
            "linecolor": "white",
            "showbackground": true,
            "ticks": "",
            "zerolinecolor": "white"
           },
           "yaxis": {
            "backgroundcolor": "#E5ECF6",
            "gridcolor": "white",
            "gridwidth": 2,
            "linecolor": "white",
            "showbackground": true,
            "ticks": "",
            "zerolinecolor": "white"
           },
           "zaxis": {
            "backgroundcolor": "#E5ECF6",
            "gridcolor": "white",
            "gridwidth": 2,
            "linecolor": "white",
            "showbackground": true,
            "ticks": "",
            "zerolinecolor": "white"
           }
          },
          "shapedefaults": {
           "line": {
            "color": "#2a3f5f"
           }
          },
          "ternary": {
           "aaxis": {
            "gridcolor": "white",
            "linecolor": "white",
            "ticks": ""
           },
           "baxis": {
            "gridcolor": "white",
            "linecolor": "white",
            "ticks": ""
           },
           "bgcolor": "#E5ECF6",
           "caxis": {
            "gridcolor": "white",
            "linecolor": "white",
            "ticks": ""
           }
          },
          "title": {
           "x": 0.05
          },
          "xaxis": {
           "automargin": true,
           "gridcolor": "white",
           "linecolor": "white",
           "ticks": "",
           "title": {
            "standoff": 15
           },
           "zerolinecolor": "white",
           "zerolinewidth": 2
          },
          "yaxis": {
           "automargin": true,
           "gridcolor": "white",
           "linecolor": "white",
           "ticks": "",
           "title": {
            "standoff": 15
           },
           "zerolinecolor": "white",
           "zerolinewidth": 2
          }
         }
        },
        "title": {
         "text": "Dog licences by borough"
        },
        "xaxis": {
         "anchor": "y",
         "domain": [
          0,
          1
         ],
         "title": {
          "text": "Borough"
         }
        },
        "yaxis": {
         "anchor": "x",
         "domain": [
          0,
          1
         ],
         "title": {
          "text": "IssuedDate"
         }
        }
       }
      }
     },
     "metadata": {},
     "output_type": "display_data"
    }
   ],
   "source": [
    "fig = px.bar(licenses_by_borough, x=\"Borough\",y=\"IssuedDate\", title=\"Dog licences by borough\")\n",
    "fig.show()\n",
    "#It look like Manhattan the borought wiht the highest Dog licences"
   ]
  },
  {
   "cell_type": "markdown",
   "id": "cd4e3ef2",
   "metadata": {},
   "source": [
    "Now let's fiter out unrealistic dogs ages. \n",
    "In this large dataset, we can get bad data, like:\n",
    "Dogs that appear to be 30 years old, which is not realistic (the average dog lifespan is 10–15 years)\n",
    "So let's remove rows where:\n",
    "- The age is less than 0 → probably a mistake\n",
    "- The age is more than 25 → extremely rare or likely wrong"
   ]
  },
  {
   "cell_type": "code",
   "execution_count": 90,
   "id": "e7ca2ff0",
   "metadata": {},
   "outputs": [],
   "source": [
    "df_cleaned = df[(df['DogAgeAtLicense'] >= 0) & (df['DogAgeAtLicense'] <= 25)]"
   ]
  },
  {
   "cell_type": "code",
   "execution_count": 80,
   "id": "cf7f473c",
   "metadata": {},
   "outputs": [],
   "source": [
    "averageage = df.groupby(\"Borough\")[\"DogAgeAtLicense\"].mean()"
   ]
  },
  {
   "cell_type": "code",
   "execution_count": 84,
   "id": "78584a3b",
   "metadata": {},
   "outputs": [
    {
     "data": {
      "text/plain": [
       "Borough\n",
       "Brooklyn         4.689987\n",
       "Manhattan        5.225337\n",
       "Queens           5.268548\n",
       "Staten Island    5.977017\n",
       "The Bronx        4.718667\n",
       "Unknown          3.969649\n",
       "Name: DogAgeAtLicense, dtype: float64"
      ]
     },
     "execution_count": 84,
     "metadata": {},
     "output_type": "execute_result"
    }
   ],
   "source": [
    "averageage"
   ]
  },
  {
   "cell_type": "markdown",
   "id": "96677e36",
   "metadata": {},
   "source": [
    "Now Let's export the cleaned dataset\n"
   ]
  },
  {
   "cell_type": "code",
   "execution_count": null,
   "id": "af7df01b",
   "metadata": {},
   "outputs": [],
   "source": [
    "df_cleaned.to_csv(\"final_dataset.csv\", index=False)"
   ]
  }
 ],
 "metadata": {
  "kernelspec": {
   "display_name": "data-analysis-env",
   "language": "python",
   "name": "python3"
  },
  "language_info": {
   "codemirror_mode": {
    "name": "ipython",
    "version": 3
   },
   "file_extension": ".py",
   "mimetype": "text/x-python",
   "name": "python",
   "nbconvert_exporter": "python",
   "pygments_lexer": "ipython3",
   "version": "3.9.22"
  }
 },
 "nbformat": 4,
 "nbformat_minor": 5
}
